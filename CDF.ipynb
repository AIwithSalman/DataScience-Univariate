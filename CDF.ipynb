{
 "cells": [
  {
   "cell_type": "code",
   "execution_count": null,
   "id": "112b4593-7fb2-4fe8-b15e-e68266ae1028",
   "metadata": {},
   "outputs": [],
   "source": [
    "def get_pdf_probability(dataset, startrange, endrange, plot=True):\n",
    "    \"\"\"\n",
    "    Calculates the accurate probability that a value from the dataset's normal distribution\n",
    "    falls between 'startrange' and 'endrange'. Optionally shows a plot of the distribution.\n",
    "\n",
    "    Parameters:\n",
    "    - dataset: list or numpy array of numerical values\n",
    "    - startrange: float, start of the range\n",
    "    - endrange: float, end of the range\n",
    "    - plot: bool, whether to display the distribution plot (default is True)\n",
    "\n",
    "    Returns:\n",
    "    - probability: float, the exact probability value between startrange and endrange\n",
    "    \"\"\"\n",
    "\n",
    "    # Step 1: Import necessary libraries\n",
    "    from matplotlib import pyplot as plt\n",
    "    from scipy.stats import norm\n",
    "    import seaborn as sns\n",
    "    import numpy as np\n",
    "\n",
    "    # Step 2: Calculate mean and standard deviation from the dataset\n",
    "    mean = np.mean(dataset)\n",
    "    std = np.std(dataset)\n",
    "    print(f\"Mean = {mean:.3f}, Standard Deviation = {std:.3f}\")\n",
    "\n",
    "    # Step 3: Use the CDF to calculate the area (probability) between the two points\n",
    "    probability = norm.cdf(endrange, loc=mean, scale=std) - norm.cdf(startrange, loc=mean, scale=std)\n",
    "    print(f\"Probability between {startrange} and {endrange} = {probability:.5f}\")\n",
    "\n",
    "    # Step 4 (Optional): Visualize the distribution\n",
    "    if plot:\n",
    "        sns.histplot(dataset, kde=True, stat='density', color='lightgreen', label='Distribution') # kde shows histogram plus a smooth curve that gives a clearer picture of distribution\n",
    "        plt.axvline(startrange, color='red', linestyle='--', label='Start Range')\n",
    "        plt.axvline(endrange, color='red', linestyle='--', label='End Range')\n",
    "        plt.title('Normal Distribution with Probability Range')\n",
    "        plt.xlabel('Value')\n",
    "        plt.ylabel('Density')\n",
    "        plt.legend()\n",
    "        plt.grid(True)\n",
    "        plt.show()\n",
    "\n",
    "    # Step 5: Return the result\n",
    "    return probability\n"
   ]
  }
 ],
 "metadata": {
  "kernelspec": {
   "display_name": "Python (aiml)",
   "language": "python",
   "name": "aiml"
  },
  "language_info": {
   "codemirror_mode": {
    "name": "ipython",
    "version": 3
   },
   "file_extension": ".py",
   "mimetype": "text/x-python",
   "name": "python",
   "nbconvert_exporter": "python",
   "pygments_lexer": "ipython3",
   "version": "3.11.5"
  }
 },
 "nbformat": 4,
 "nbformat_minor": 5
}
